{
  "nbformat": 4,
  "nbformat_minor": 0,
  "metadata": {
    "colab": {
      "provenance": [],
      "toc_visible": true,
      "include_colab_link": true
    },
    "kernelspec": {
      "name": "python3",
      "display_name": "Python 3"
    },
    "language_info": {
      "name": "python"
    }
  },
  "cells": [
    {
      "cell_type": "markdown",
      "metadata": {
        "id": "view-in-github",
        "colab_type": "text"
      },
      "source": [
        "<a href=\"https://colab.research.google.com/github/Isafarii/AOC/blob/main/Copy_of_The_Iris_Dataset.ipynb\" target=\"_parent\"><img src=\"https://colab.research.google.com/assets/colab-badge.svg\" alt=\"Open In Colab\"/></a>"
      ]
    },
    {
      "cell_type": "markdown",
      "source": [
        "# Iris\n",
        "\n",
        "The Iris dataset is a classic dataset in machine learning. It contains measurements of 150 iris flowers from three different species (setosa, versicolor, and virginica). Each flower's measurements include sepal length, sepal width, petal length, and petal width. This is a good set to try some basic data mining skills, too.\n",
        "\n",
        "You can find the Iris dataset in various places, including the UCI Machine Learning Repository. Here's a link to the dataset:\n",
        "\n",
        "[Iris Dataset - UCI Machine Learning Repository](https://archive.ics.uci.edu/dataset/53/iris)\n",
        "\n",
        "You can download the dataset in CSV format from the \"Data Folder\" on the UCI website. It's a small, well-structured dataset that works well for practicing data manipulation, analysis, and visualization in Python."
      ],
      "metadata": {
        "id": "F8e3MO_NhCjE"
      }
    },
    {
      "cell_type": "markdown",
      "source": [
        "# Mini-projects to validate milestones 1 and 2\n",
        "\n",
        "* Basic Data Manipulation\n",
        "\n",
        "   * Load a CSV file stored locally (Google Drive) using the pandas library.\n",
        "   * Select a subset of columns and rows based on specific conditions.\n",
        "   * Perform a basic statistical analysis on a numeric column (mean, median, standard deviation).\n",
        "\n",
        "* Data Visualization:\n",
        "\n",
        "   * Create a simple line plot or bar chart using matplotlib.\n",
        "   * Label axes, add a title, and choose appropriate colors.\n",
        "   * Optionally, add annotations or customize the plot further.\n",
        "\n",
        "\n",
        "* Function and List Comprehension:\n",
        "\n",
        "   * Write a function that takes a list of numbers as input and returns a new list containing only the even numbers.\n",
        "   * Use list comprehension to create a list of squares for numbers from 1 to 10.\n",
        "\n",
        "\n",
        "* Simple Data Analysis:\n",
        "\n",
        "   * Load a dataset and identify and print the unique values in a categorical column.\n",
        "   * Calculate the correlation between two numeric columns in the dataset.\n"
      ],
      "metadata": {
        "id": "Kyd8y1c8hqQc"
      }
    },
    {
      "cell_type": "code",
      "source": [
        "\n",
        "#1a load content from csv\n",
        "from google.colab import drive\n",
        "import pandas as pd\n",
        "drive.mount(\"/content/drive\", force_remount=True)\n",
        "\n",
        "\n",
        "df = pd.read_csv('/content/drive/MyDrive/iris.csv')\n",
        "\n",
        "#1b select columns and rows, reading off csv names\n",
        "subset_df = df[df['petal length'] > 1.5][['sepal length','petal length']]\n",
        "\n",
        "#identify categories\n",
        "cat_col = 'class'\n",
        "\n",
        "#correlation, by using .corr('here')\n",
        "\n",
        "#correlation = iris_df\n",
        "\n",
        "col1 = 'sepal length'\n",
        "col2 ='petal length'\n",
        "\n",
        "#1c mean med and std print\n",
        "print(\"\\n1.\")\n",
        "print(\"Sep length mean::\", df['sepal length'].mean())\n",
        "print(\"Sep lenth median:\", df['sepal length'].median())\n",
        "print(\"Sep length stdev:\", df['sepal length'].std())\n",
        "\n",
        "\n",
        "#make data vis,\n",
        "#Create a simple line plot\n",
        "#or bar chart using matplotlib.\n",
        "\n",
        "#2a plot\n",
        "import numpy as np\n",
        "import matplotlib.pyplot as plt\n",
        "\n",
        "#2b label cols\n",
        "sepLen=df['sepal length']\n",
        "sepWid=df['sepal width']\n",
        "plt.scatter(sepLen,sepWid)\n",
        "plt.title(\"Sepal length and width\")\n",
        "plt.xlabel(\"Sepal length\")\n",
        "plt.ylabel(\"Sepal width\")\n",
        "print(\"\\n2.\")\n",
        "plt.show()\n",
        "\n",
        "#3a\n",
        "print(\"\\n3.\")\n",
        "\"\"\"\n",
        "Function and List Comprehension:\n",
        "Write a function that takes a list of numbers as input and returns a new list containing only the even numbers.\n",
        "Use list comprehension to create a list of squares for numbers from 1 to 10.\n",
        "\"\"\"\n",
        "#funct takes list of numbs inputs. return list only even printEven\n",
        "scan = input(\"Enter list of numbers, seperated by spaces\")\n",
        "numbers = scan.split()\n",
        "for i in range(len(numbers)):\n",
        "    numbers[i]=int(numbers[i])\n",
        "#if even\n",
        "for number in numbers:\n",
        "    if number %2 ==0:\n",
        "        print(\"Nums :\",number)\n",
        "\n",
        "\n",
        "\n",
        "#4a print using .unique() to print unique\n",
        "print(\"\\n4.\")\n",
        "print(\"Unique: \", df[cat_col].unique())\n",
        "\n",
        "#4b print correl\n",
        "print(\"Correlation for sep&pet length: \",df[col1].corr(df[col2]))"
      ],
      "metadata": {
        "id": "nidtMK7Mhptk",
        "colab": {
          "base_uri": "https://localhost:8080/",
          "height": 802
        },
        "outputId": "ebaa686f-fb01-4398-9986-f2a42d7072ce"
      },
      "execution_count": 48,
      "outputs": [
        {
          "output_type": "stream",
          "name": "stdout",
          "text": [
            "Mounted at /content/drive\n",
            "\n",
            "1.\n",
            "Sep length mean:: 5.843333333333334\n",
            "Sep lenth median: 5.8\n",
            "Sep length stdev: 0.828066127977863\n",
            "\n",
            "2.\n"
          ]
        },
        {
          "output_type": "display_data",
          "data": {
            "text/plain": [
              "<Figure size 640x480 with 1 Axes>"
            ],
            "image/png": "[encoded data removed]"
          },
          "metadata": {}
        },
        {
          "output_type": "stream",
          "name": "stdout",
          "text": [
            "\n",
            "3.\n",
            "Enter list of numbers, seperated by spaces2 3 4 5 6 7 9 10 11 \n",
            "Nums : 2\n",
            "Nums : 4\n",
            "Nums : 6\n",
            "Nums : 10\n",
            "\n",
            "4.\n",
            "Unique:  ['Iris-setosa' 'Iris-versicolor' 'Iris-virginica']\n",
            "Correlation for sep&pet length:  0.8717541573048718\n"
          ]
        }
      ]
    },
    {
      "cell_type": "code",
      "source": [
        "\n",
        "#"
      ],
      "metadata": {
        "colab": {
          "base_uri": "https://localhost:8080/"
        },
        "id": "Bmu4MsCKwRrq",
        "outputId": "fbf40731-bbfb-482e-fbaf-7cc19fbb3bb7"
      },
      "execution_count": 11,
      "outputs": [
        {
          "output_type": "stream",
          "name": "stdout",
          "text": [
            "Mounted at /content/drive\n"
          ]
        }
      ]
    }
  ]
}